{
 "cells": [
  {
   "cell_type": "code",
   "execution_count": 1,
   "id": "3c5b8cc3-95a3-42a1-aac0-7958b9bd3f63",
   "metadata": {},
   "outputs": [],
   "source": [
    "from text import Corpus, Passage"
   ]
  },
  {
   "cell_type": "code",
   "execution_count": 2,
   "id": "30bbe112-ef88-4d88-b028-55fc9cea1920",
   "metadata": {},
   "outputs": [
    {
     "name": "stdout",
     "output_type": "stream",
     "text": [
      "Loading passage data for passage_1.txt from cached...\n",
      "Loading passage data for passage_2.txt from cached...\n"
     ]
    }
   ],
   "source": [
    "corpus = Corpus('data/sample_passages', load_from_cache = True)"
   ]
  },
  {
   "cell_type": "code",
   "execution_count": null,
   "id": "e934efdc-7521-4e11-b2b0-6bb67ef01789",
   "metadata": {},
   "outputs": [],
   "source": []
  }
 ],
 "metadata": {
  "kernelspec": {
   "display_name": "Python 3 (ipykernel)",
   "language": "python",
   "name": "python3"
  },
  "language_info": {
   "codemirror_mode": {
    "name": "ipython",
    "version": 3
   },
   "file_extension": ".py",
   "mimetype": "text/x-python",
   "name": "python",
   "nbconvert_exporter": "python",
   "pygments_lexer": "ipython3",
   "version": "3.12.4"
  }
 },
 "nbformat": 4,
 "nbformat_minor": 5
}
