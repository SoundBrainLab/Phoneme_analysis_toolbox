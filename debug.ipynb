{
 "cells": [
  {
   "cell_type": "code",
   "execution_count": 1,
   "id": "3c5b8cc3-95a3-42a1-aac0-7958b9bd3f63",
   "metadata": {},
   "outputs": [],
   "source": [
    "from text import Corpus, Passage"
   ]
  },
  {
   "cell_type": "code",
   "execution_count": 2,
   "id": "30bbe112-ef88-4d88-b028-55fc9cea1920",
   "metadata": {},
   "outputs": [
    {
     "name": "stdout",
     "output_type": "stream",
     "text": [
      "Loading passage data for passage_1.txt from cached...\n",
      "Loading passage data for passage_2.txt from cached...\n"
     ]
    }
   ],
   "source": [
    "corpus = Corpus('data/sample_passages')"
   ]
  },
  {
   "cell_type": "code",
   "execution_count": 3,
   "id": "e2667869-c131-4777-8e5d-c716f7e5a9fc",
   "metadata": {},
   "outputs": [
    {
     "data": {
      "text/plain": [
       "{'AA': 17,\n",
       " 'AE': 21,\n",
       " 'AH': 156,\n",
       " 'AO': 19,\n",
       " 'AW': 7,\n",
       " 'AY': 20,\n",
       " 'B': 28,\n",
       " 'CH': 7,\n",
       " 'D': 88,\n",
       " 'DH': 51,\n",
       " 'EH': 34,\n",
       " 'ER': 61,\n",
       " 'EY': 21,\n",
       " 'F': 37,\n",
       " 'G': 11,\n",
       " 'HH': 24,\n",
       " 'IH': 90,\n",
       " 'IY': 52,\n",
       " 'JH': 8,\n",
       " 'K': 26,\n",
       " 'L': 74,\n",
       " 'M': 48,\n",
       " 'N': 91,\n",
       " 'NG': 32,\n",
       " 'OW': 11,\n",
       " 'OY': 6,\n",
       " 'P': 24,\n",
       " 'R': 43,\n",
       " 'S': 56,\n",
       " 'SH': 12,\n",
       " 'T': 61,\n",
       " 'TH': 3,\n",
       " 'UH': 12,\n",
       " 'UW': 15,\n",
       " 'V': 35,\n",
       " 'W': 34,\n",
       " 'Y': 7,\n",
       " 'Z': 39,\n",
       " 'ZH': 1}"
      ]
     },
     "execution_count": 3,
     "metadata": {},
     "output_type": "execute_result"
    }
   ],
   "source": [
    "corpus.passages[0].get_phoneme_count()"
   ]
  }
 ],
 "metadata": {
  "kernelspec": {
   "display_name": "Python 3 (ipykernel)",
   "language": "python",
   "name": "python3"
  },
  "language_info": {
   "codemirror_mode": {
    "name": "ipython",
    "version": 3
   },
   "file_extension": ".py",
   "mimetype": "text/x-python",
   "name": "python",
   "nbconvert_exporter": "python",
   "pygments_lexer": "ipython3",
   "version": "3.12.4"
  }
 },
 "nbformat": 4,
 "nbformat_minor": 5
}
